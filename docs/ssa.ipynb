{
 "cells": [
  {
   "cell_type": "markdown",
   "metadata": {},
   "source": [
    "# Gillespie Algorithm"
   ]
  },
  {
   "cell_type": "code",
   "execution_count": null,
   "metadata": {},
   "outputs": [],
   "source": [
    "from random import choices, expovariate\n",
    "import numpy as np\n",
    "import matplotlib.pyplot as plt\n",
    "%matplotlib inline"
   ]
  },
  {
   "cell_type": "code",
   "execution_count": null,
   "metadata": {},
   "outputs": [],
   "source": [
    "\"\"\"\n",
    "Stochastic chemical reaction: Gillespie Algorithm\n",
    "Adapted from: Chemical and Biomedical Enginnering Calculations Using Python Ch.4-3\n",
    "Reaction of A <-> B with rate constants k1 & k2\n",
    "\"\"\"\n",
    "class Gillespie():\n",
    "    def __init__(self, propensityFuncs, actionFuncs, parameters=None):\n",
    "        self.propensityFuncs = propensityFuncs\n",
    "        self.actionFuncs = actionFuncs\n",
    "        self.parameters = parameters\n",
    "    def run(self, u0, tend, tstart=0):\n",
    "        # Setup\n",
    "        t = tstart\n",
    "        p = self.parameters\n",
    "        u = np.asarray(u0)\n",
    "        us = [u.copy()]\n",
    "        ts = [t]\n",
    "        while t < tend:\n",
    "            # propensities of reactions\n",
    "            ps = [f(u, p, t) for f in self.propensityFuncs]\n",
    "            pTotal = sum(ps)\n",
    "            dt = expovariate(pTotal)\n",
    "            # Choose an action by the weight of each propensities, and update the state variable\n",
    "            act = choices(actionFuncs, weights=ps)[0]\n",
    "            u = np.asarray(act(u, p, t))\n",
    "            t += dt\n",
    "            us.append(u.copy())\n",
    "            ts.append(t)\n",
    "        return np.array(ts), np.array(us)"
   ]
  },
  {
   "cell_type": "code",
   "execution_count": null,
   "metadata": {},
   "outputs": [],
   "source": [
    "parameters = {\"k1\": 1.0, \"k2\": 0.5}\n",
    "propensityFuncs = (lambda u, p, t: p[\"k1\"] * u[0], \n",
    "                   lambda u, p, t: p[\"k2\"] * u[1])\n",
    "actionFuncs = (lambda u, p, t: [u[0] - 1, u[1] + 1], \n",
    "               lambda u, p, t: [u[0] + 1, u[1] - 1])\n",
    "ssa = Gillespie(propensityFuncs = propensityFuncs,\n",
    "                actionFuncs = actionFuncs,\n",
    "                parameters = parameters)\n",
    "ts, us = ssa.run([175, 25], 10.0)\n",
    "\n",
    "fig, ax = plt.subplots()\n",
    "ax.plot(ts, us[:, 0], label=\"A\")\n",
    "ax.plot(ts, us[:, 1], label=\"B\")\n",
    "ax.set_xlabel('time')\n",
    "ax.set_ylabel('number of molecules')\n",
    "ax.legend(loc='best')"
   ]
  }
 ],
 "metadata": {
  "kernelspec": {
   "display_name": "Python 3 (ipykernel)",
   "language": "python",
   "name": "python3"
  },
  "language_info": {
   "codemirror_mode": {
    "name": "ipython",
    "version": 3
   },
   "file_extension": ".py",
   "mimetype": "text/x-python",
   "name": "python",
   "nbconvert_exporter": "python",
   "pygments_lexer": "ipython3",
   "version": "3.9.10"
  }
 },
 "nbformat": 4,
 "nbformat_minor": 4
}
