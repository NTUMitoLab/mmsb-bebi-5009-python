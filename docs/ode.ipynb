{
 "cells": [
  {
   "cell_type": "markdown",
   "metadata": {},
   "source": [
    "# Solving Ordinary Differential Equations (ODEs) in Python\n",
    "\n",
    "Source: Scipy's [documentation](https://docs.scipy.org/doc/scipy/reference/generated/scipy.integrate.odeint.html).\n",
    "\n",
    "`odeint(model,y0,t,args=(...))`"
   ]
  },
  {
   "cell_type": "code",
   "execution_count": null,
   "metadata": {},
   "outputs": [],
   "source": [
    "import numpy as np\n",
    "from scipy.integrate import solve_ivp\n",
    "import matplotlib.pyplot as plt\n",
    "%matplotlib inline"
   ]
  },
  {
   "cell_type": "markdown",
   "metadata": {},
   "source": [
    "## Exponential decays"
   ]
  },
  {
   "cell_type": "code",
   "execution_count": null,
   "metadata": {},
   "outputs": [],
   "source": [
    "# function that returns dy/dt\n",
    "def model(t, y, k):\n",
    "    dydt = -k * y[0]\n",
    "    return [dydt]\n",
    "\n",
    "# initial condition\n",
    "y0 = [5]\n",
    "tspan = (0., 20.)\n",
    "\n",
    "# solve ODEs\n",
    "y1 = solve_ivp(model, tspan, y0, args=(0.1,), dense_output=True)\n",
    "y2 = solve_ivp(model, tspan, y0, args=(0.2,), dense_output=True)\n",
    "y3 = solve_ivp(model, tspan, y0, args=(0.5,), dense_output=True)"
   ]
  },
  {
   "cell_type": "code",
   "execution_count": null,
   "metadata": {},
   "outputs": [],
   "source": [
    "ts = np.linspace(tspan[0], tspan[1], 20)\n",
    "# plot results\n",
    "plt.figure()\n",
    "plt.plot(ts, y1.sol(ts).T, 'r-',linewidth=2,label='k=0.1')\n",
    "plt.plot(ts, y2.sol(ts).T, 'b--',linewidth=2,label='k=0.2')\n",
    "plt.plot(ts, y3.sol(ts).T, 'g:',linewidth=2,label='k=0.5')\n",
    "plt.xlabel('time')\n",
    "plt.ylabel('y(t)')\n",
    "plt.legend()"
   ]
  },
  {
   "cell_type": "markdown",
   "metadata": {},
   "source": [
    "## Hodgkin-Huxley electrophysiology model"
   ]
  },
  {
   "cell_type": "code",
   "execution_count": null,
   "metadata": {},
   "outputs": [],
   "source": []
  },
  {
   "cell_type": "code",
   "execution_count": null,
   "metadata": {},
   "outputs": [],
   "source": [
    "\"\"\"\n",
    "Hodgkin-Huxley model of excitable barnacle muscle fiber\n",
    "reviewed in Rinzel (1990) Bulletin of Mathematical Biology 52 pp. 5-23.\n",
    "\"\"\"\n",
    "from math import exp, expm1\n",
    "\n",
    "def get_iStim(t):\n",
    "    return (20 < t <= 21) * -6.8 + (60 < t <= 61) * -6.9\n",
    "\n",
    "# Model\n",
    "def hh_rhs(t, y, p):\n",
    "    # Constants\n",
    "    E_N = p['E_N']  # Reversal potential of Na\n",
    "    E_K = p['E_K']  # Reversal potential of K\n",
    "    E_LEAK = p['E_LEAK']  # Reversal potential of leaky channels\n",
    "    G_N_BAR = p['G_N_BAR']  # Max. Na channel conductance\n",
    "    G_K_BAR = p['G_K_BAR'] # Max. K channel conductance\n",
    "    G_LEAK = p['G_LEAK']  # Max. leak channel conductance\n",
    "    C_M = p['C_M']  # membrane capacitance\n",
    "\n",
    "    # Equations\n",
    "    v, m, h, n = y\n",
    "\n",
    "    mAlfaV = -0.10 * (v + 35)\n",
    "    mAlfa = mAlfaV / expm1(mAlfaV)\n",
    "    mBeta = 4.0 * exp(-(v + 60) / 18.0)\n",
    "    dm = -(mAlfa + mBeta) * m + mAlfa\n",
    "    \n",
    "    hAlfa = 0.07 * exp(-(v+60)/20)\n",
    "    hBeta = 1 / (exp(-(v+30)/10) + 1)\n",
    "    dh  = -(hAlfa + hBeta) * h + hAlfa\n",
    "    \n",
    "    iNa = G_N_BAR * (v - E_N) * (m**3) * h\n",
    "\n",
    "    nAlfaV = -0.1 * (v+50)\n",
    "    nAlfa = 0.1 * nAlfaV / expm1(nAlfaV)\n",
    "    nBeta = 0.125 * exp( -(v+60) / 80)\n",
    "    dn  = -(nAlfa + nBeta) * n + nAlfa\n",
    "    \n",
    "    iK = G_K_BAR * (v - E_K) * (n**4)\n",
    "    iLeak = G_LEAK * (v - E_LEAK)\n",
    "    iSt = get_iStim(t)\n",
    "    dv = -(iNa + iK + iLeak + iSt) / C_M\n",
    "\n",
    "    return [dv, dm, dh, dn]\n",
    "\n",
    "# Initial conditions\n",
    "y0 = v, m, h, n = -59.8977, 0.0536, 0.5925, 0.3192\n",
    "\n",
    "# Parameters\n",
    "p = {'E_N': 55,     # Reversal potential of Na\n",
    "     'E_K': -72,    # Reversal potential of K\n",
    "     'E_LEAK': -49, # Reversal potential of leaky channels\n",
    "     'G_N_BAR': 120,# Max. Na channel conductance\n",
    "     'G_K_BAR': 36, # Max. K channel conductance\n",
    "     'G_LEAK': 0.3, # Max. leak channel conductance\n",
    "     'C_M': 1.0}    # membrane capacitance\n",
    "\n",
    "# time span\n",
    "tStart, tEnd = 0, 100"
   ]
  },
  {
   "cell_type": "code",
   "execution_count": null,
   "metadata": {},
   "outputs": [],
   "source": [
    "%%time\n",
    "sol2 = solve_ivp(hh_rhs, (tStart, tEnd), y0, args=(p, ), method='LSODA', rtol=1e-7, atol=1e-7)"
   ]
  },
  {
   "cell_type": "code",
   "execution_count": null,
   "metadata": {},
   "outputs": [],
   "source": [
    "# Plotting\n",
    "fig, axs = plt.subplots(nrows=2, figsize=(6, 12))\n",
    "axs[0].plot(sol2.t, sol2.y[0, :].T, 'k-', linewidth=2)\n",
    "axs[0].set_xlabel(\"Time (ms)\")\n",
    "axs[0].set_ylabel(\"Membrane voltage (mV)\")\n",
    "axs[1].plot(sol2.t, sol2.y[1:4, :].T, linewidth=2, label=[\"m\", \"h\", \"n\"])\n",
    "axs[1].set_xlabel(\"Time (ms)\")\n",
    "axs[1].set_ylabel(\"Gating variables\")\n",
    "axs[1].legend()"
   ]
  }
 ],
 "metadata": {
  "kernelspec": {
   "display_name": "Python 3 (ipykernel)",
   "language": "python",
   "name": "python3"
  },
  "language_info": {
   "codemirror_mode": {
    "name": "ipython",
    "version": 3
   },
   "file_extension": ".py",
   "mimetype": "text/x-python",
   "name": "python",
   "nbconvert_exporter": "python",
   "pygments_lexer": "ipython3",
   "version": "3.11.0"
  }
 },
 "nbformat": 4,
 "nbformat_minor": 4
}
