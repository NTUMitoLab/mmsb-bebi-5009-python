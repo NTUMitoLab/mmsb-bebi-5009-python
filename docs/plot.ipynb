{
 "cells": [
  {
   "cell_type": "markdown",
   "metadata": {},
   "source": [
    "# Plotting in Python\n",
    "\n",
    "[Matplotlib](https://matplotlib.org/) (MPL) is the default choice, with other options including [Seaborn](https://seaborn.pydata.org) for high-level plotting, [Plotly](https://plot.ly/python/) for JS plotting framework, [Bokeh](https://bokeh.org/) for interactive plotting.\n"
   ]
  },
  {
   "cell_type": "markdown",
   "metadata": {},
   "source": [
    "## Installation\n",
    "\n",
    "Matplotlib is included in the [Anaconda](https://www.anaconda.com/products/individual) distribution.\n",
    "\n",
    "Install it via `conda` in case you got a miniconda distribution that comes without\n",
    "\n",
    "```bash\n",
    "conda install matplotlib\n",
    "```\n",
    "\n",
    "If you're using `pip` instead of `conda`\n",
    "\n",
    "```bash\n",
    "pip install matplotlib\n",
    "```\n",
    "\n",
    "## Reference\n",
    "\n",
    "* [Python Data Science Handbook](https://jakevdp.github.io/PythonDataScienceHandbook/04.00-introduction-to-matplotlib.html)\n",
    "* [Scipy Lecture Notes](http://www.scipy-lectures.org/intro/matplotlib/index.html)\n",
    "* [Numerical Python Course](https://www.python-course.eu/matplotlib.php)\n",
    "* [Python Graph Gallery](https://python-graph-gallery.com/)\n",
    "* [Matplotlib official guide](https://matplotlib.org/users/index.html)\n",
    "* [Matplotlib Tutorial – A Complete Guide to Python Plot w/ Examples](https://www.machinelearningplus.com/plots/matplotlib-tutorial-complete-guide-python-plot-examples)\n",
    "* [Top 50 matplotlib visualizations ](https://www.machinelearningplus.com/plots/top-50-matplotlib-visualizations-the-master-plots-python/)\n",
    "* [Matplotlib Tutorial: Learn the basics of Python’s powerful Plotting library](https://towardsdatascience.com/matplotlib-tutorial-learn-basics-of-pythons-powerful-plotting-library-b5d1b8f67596)\n",
    "\n",
    "**Anatomy of a figure** (from mpl official website)\n",
    "\n",
    "![](https://matplotlib.org/3.2.1/_images/sphx_glr_anatomy_001.png)\n",
    "\n",
    "Conventional short names for `matplotlib` and `numpy`:"
   ]
  },
  {
   "cell_type": "code",
   "execution_count": null,
   "metadata": {},
   "outputs": [],
   "source": [
    "import matplotlib.pyplot as plt\n",
    "import numpy as np\n",
    "# For inline plotting in jupyter notebooks\n",
    "%matplotlib inline  "
   ]
  },
  {
   "cell_type": "markdown",
   "metadata": {},
   "source": [
    "## Line plots\n",
    "\n",
    "Line plots are usually for visualization of 2D data.\n",
    "\n",
    "e.g. time series (y-t), phase plots (x-y)\n",
    "\n",
    "```py\n",
    "plt.plot(xs, ys)\n",
    "```\n",
    "\n",
    "See also\n",
    "\n",
    "* [Line styles](https://matplotlib.org/gallery/lines_bars_and_markers/line_styles_reference.html)\n",
    "* [Line color and dot styles](https://matplotlib.org/2.1.1/api/_as_gen/matplotlib.pyplot.plot.html)\n",
    "* [figure()](https://matplotlib.org/3.1.0/api/_as_gen/matplotlib.pyplot.figure.html?highlight=figure#matplotlib.pyplot.figure)"
   ]
  },
  {
   "cell_type": "code",
   "execution_count": null,
   "metadata": {},
   "outputs": [],
   "source": [
    "# Data #\n",
    "x = np.linspace(0, 10, num=100)\n",
    "y1 = np.sin(x)\n",
    "y2 = np.cos(x)\n",
    "\n",
    "# Opens a new figure to be plotted\n",
    "plt.figure()\n",
    "\n",
    "# plot(x, y, <MATLAB stylestring>)\n",
    "plt.plot(x, y1, '-')  \n",
    "plt.plot(x, y2, '--')"
   ]
  },
  {
   "cell_type": "markdown",
   "metadata": {},
   "source": [
    "Add more things to the plot."
   ]
  },
  {
   "cell_type": "code",
   "execution_count": null,
   "metadata": {},
   "outputs": [],
   "source": [
    "# Let's add some more options\n",
    "\n",
    "# Set figure (whole picture) size to 10 * 10\n",
    "plt.figure(figsize = (10, 10))\n",
    "\n",
    "# Add grid\n",
    "plt.grid() \n",
    "\n",
    "# Title\n",
    "plt.title(\"Waves\")\n",
    "\n",
    "# Lables for X & Y axes\n",
    "plt.xlabel(\"Time\")\n",
    "plt.ylabel(\"Amplitude\")\n",
    "\n",
    "# 'o-' does not mean orange line rather than circle dots\n",
    "# '^' means triangle dots\n",
    "# line labels are also set\n",
    "plt.plot(x, y1, '^-', label=\"Line1\", color='orange')  \n",
    "plt.plot(x, y2, 'b--', label=\"Line2\")\n",
    "\n",
    "# Show the labels\n",
    "plt.legend(loc='upper left')"
   ]
  },
  {
   "cell_type": "markdown",
   "metadata": {},
   "source": [
    "### Line customization\n",
    "\n",
    "- color:\n",
    "https://xkcd.com/color/rgb/\n",
    "\n",
    "- line/marker style:\n",
    "https://www.labri.fr/perso/nrougier/teaching/matplotlib/#figures-subplots-axes-and-ticks\n",
    "\n",
    "<div style=\"display:inline-block;\">\n",
    "    <a href=\"https://imgur.com/OaaO9GE\" ><img src=\"https://i.imgur.com/OaaO9GE.png\" title=\"source: imgur.com\" align=\"left\" width = 42%>\n",
    "    </a>\n",
    "    <a href=\"https://imgur.com/IhUOXv6\"><img src=\"https://i.imgur.com/IhUOXv6.png\" title=\"source: imgur.com\" align=\"right\" width = 50%>\n",
    "    </a>\n",
    "</div>\n"
   ]
  },
  {
   "cell_type": "markdown",
   "metadata": {},
   "source": [
    "## Multiple series\n",
    "\n",
    "**1 column = 1 series of data**"
   ]
  },
  {
   "cell_type": "code",
   "execution_count": null,
   "metadata": {},
   "outputs": [],
   "source": [
    "# Data #\n",
    "x = np.linspace(0, 10, 100)\n",
    "\n",
    "# 4 columns of data = 4 series\n",
    "# y = sin(x + 0.5k * pi); k = 0, 1, 2, 3\n",
    "y = np.sin(x[:, np.newaxis] + np.pi * np.arange(0, 2, 0.5))\n",
    "y.shape"
   ]
  },
  {
   "cell_type": "code",
   "execution_count": null,
   "metadata": {},
   "outputs": [],
   "source": [
    "plt.figure()\n",
    "plt.plot(x, y)"
   ]
  },
  {
   "cell_type": "code",
   "execution_count": null,
   "metadata": {},
   "outputs": [],
   "source": [
    "plt.figure()\n",
    "lines = plt.plot(x, y[:, 0:2])\n",
    "\n",
    "# Another way to set labels\n",
    "plt.legend(lines, ['First', 'Second'], loc='upper right')"
   ]
  },
  {
   "cell_type": "markdown",
   "metadata": {},
   "source": [
    "## Tweaking Axis ticks\n",
    "\n",
    "* Logarithmic scale\n",
    "\n",
    "```py\n",
    "plt.xscale('log')\n",
    "```\n",
    "\n",
    "* Hiding ticks. [@stack overflow](https://stackoverflow.com/questions/12998430/remove-xticks-in-a-matplotlib-plot)\n",
    "\n",
    "```py\n",
    "plt.tick_params(\n",
    "    axis='x',          # changes apply to the x-axis\n",
    "    which='both',      # both major and minor ticks are affected\n",
    "    bottom=False,      # ticks along the bottom edge are off\n",
    "    top=False,         # ticks along the top edge are off\n",
    "    labelbottom=False) # labels along the bottom edge are off\n",
    "```\n",
    "\n",
    "See also: [axes()](https://matplotlib.org/3.1.1/api/axes_api.html)"
   ]
  },
  {
   "cell_type": "code",
   "execution_count": null,
   "metadata": {},
   "outputs": [],
   "source": [
    "plt.tick_params(\n",
    "    axis='x',          # changes apply to the x-axis\n",
    "    which='both',      # both major and minor ticks are affected\n",
    "    bottom=False,      # ticks along the bottom edge are off\n",
    "    top=False,         # ticks along the top edge are off\n",
    "    labelbottom=False) # labels along the bottom edge are off"
   ]
  },
  {
   "cell_type": "code",
   "execution_count": null,
   "metadata": {},
   "outputs": [],
   "source": [
    "# Bode plot example\n",
    "\n",
    "# Transfer function\n",
    "def H(w):\n",
    "    wc = 4000*np.pi\n",
    "    return 1.0 / (1.0 + 1j * w / wc)\n",
    "\n",
    "freq = np.logspace(1,5) # frequencies from 10**1 to 10**5 Hz\n",
    "\n",
    "plt.figure()\n",
    "plt.plot(freq, 20*np.log10(abs(H(2*np.pi*freq))))\n",
    "plt.xscale('log')\n",
    "plt.xlabel('Frequency (Hz)')\n",
    "plt.ylabel('dB')"
   ]
  },
  {
   "cell_type": "markdown",
   "metadata": {},
   "source": [
    "## Multiple subplots"
   ]
  },
  {
   "cell_type": "markdown",
   "metadata": {},
   "source": [
    "One could use MATLAB-style to define the subplots. \n",
    "\n",
    "But the object-oriented way is even better. See [`subplots()`](https://matplotlib.org/3.1.1/api/_as_gen/matplotlib.pyplot.subplots.html)."
   ]
  },
  {
   "cell_type": "code",
   "execution_count": null,
   "metadata": {},
   "outputs": [],
   "source": [
    "# MATLAB style\n",
    "# subplot(rows, columns, panel number)\n",
    "plt.subplot(2, 1, 1)\n",
    "plt.plot(x, y1)\n",
    "# create the second panel and set current axis\n",
    "plt.subplot(2, 1, 2)\n",
    "plt.plot(x, y2)"
   ]
  },
  {
   "cell_type": "code",
   "execution_count": null,
   "metadata": {},
   "outputs": [],
   "source": [
    "# OO style (recommended)\n",
    "fig, ax = plt.subplots(2)\n",
    "# Plot for each axes (an unit in the figure)\n",
    "ax[0].plot(x, y1)\n",
    "ax[0].set_title(\"Upper panel\")\n",
    "ax[1].plot(x, y2)\n",
    "ax[1].set_title(\"Lower panel\")\n",
    "# Common title\n",
    "plt.suptitle(\"Common title\")"
   ]
  },
  {
   "cell_type": "markdown",
   "metadata": {},
   "source": [
    "## Scatter plots\n",
    "\n",
    "```py\n",
    "plt.plot(x, y, 'o')\n",
    "```\n",
    "\n",
    "Ref: [Python Data Science Handbook ](https://jakevdp.github.io/PythonDataScienceHandbook/04.02-simple-scatter-plots.html)"
   ]
  },
  {
   "cell_type": "code",
   "execution_count": null,
   "metadata": {},
   "outputs": [],
   "source": [
    "# Using plot() function\n",
    "plt.figure()\n",
    "x = np.linspace(0, 10)\n",
    "y1 = np.sin(x)\n",
    "plt.plot(x, y1, 'o', color='black')\n",
    "# Same as plt.scatter(x, y1, marker='o', color='black')"
   ]
  },
  {
   "cell_type": "markdown",
   "metadata": {},
   "source": [
    "## Color map (cmap) and colorbar()\n",
    "```py\n",
    "plt.scatter(x, y, c=colors)\n",
    "plt.colorbar()\n",
    "```\n",
    "\n",
    "See also [colormaps](https://matplotlib.org/3.1.0/tutorials/colors/colormaps.html) and [colorbar](https://matplotlib.org/3.1.1/api/_as_gen/matplotlib.pyplot.colorbar.html)"
   ]
  },
  {
   "cell_type": "code",
   "execution_count": null,
   "metadata": {},
   "outputs": [],
   "source": [
    "# Data #\n",
    "rng = np.random.RandomState(0)\n",
    "x = rng.randn(100)\n",
    "y = rng.randn(100)\n",
    "colors = rng.rand(100)\n",
    "sizes = 1000 * rng.rand(100)\n",
    "\n",
    "# Plot #\n",
    "plt.figure()\n",
    "\n",
    "# cmap for color mapping\n",
    "plt.scatter(x, y, c=colors, s=sizes, alpha=0.3, cmap='viridis')\n",
    "\n",
    "# show color scale bar\n",
    "plt.colorbar()"
   ]
  },
  {
   "cell_type": "markdown",
   "metadata": {},
   "source": [
    "## Error bar\n",
    "```py\n",
    "plt.errorbar(x, y, yerr=dy, fmt='.k')\n",
    "```\n",
    "\n",
    "See also: [errorbar](https://matplotlib.org/3.1.1/api/_as_gen/matplotlib.pyplot.errorbar.html)"
   ]
  },
  {
   "cell_type": "code",
   "execution_count": null,
   "metadata": {},
   "outputs": [],
   "source": [
    "# Data #\n",
    "x = np.linspace(0, 10, 50)  # Input\n",
    "dy = 0.8                                  # Uncertainty level\n",
    "y = np.sin(x) + dy * np.random.randn(50)  # Output with uncertainty\n",
    "\n",
    "# Plot #\n",
    "plt.figure()\n",
    "# xerr or yerr parameter to set error bars\n",
    "plt.errorbar(x, y, yerr=dy, fmt='.k')"
   ]
  },
  {
   "cell_type": "markdown",
   "metadata": {},
   "source": [
    "## Contour plots\n",
    "\n",
    "```py\n",
    "plt.contour(X, Y, Z)\n",
    "```\n",
    "\n",
    "See also [`contour()`](https://matplotlib.org/3.1.0/api/_as_gen/matplotlib.pyplot.contour.html) and [`imshow()`](https://matplotlib.org/3.1.0/api/_as_gen/matplotlib.pyplot.imshow.html?highlight=imshow#matplotlib.pyplot.imshow)"
   ]
  },
  {
   "cell_type": "code",
   "execution_count": null,
   "metadata": {},
   "outputs": [],
   "source": [
    "# data #\n",
    "def f(x, y):\n",
    "    return np.sin(x) ** 10 + np.cos(10 + y * x) * np.cos(x)\n",
    "\n",
    "x = np.linspace(0, 5, 50)\n",
    "y = np.linspace(0, 5, 40)\n",
    "\n",
    "X, Y = np.meshgrid(x, y)\n",
    "Z = f(X, Y)\n",
    "\n",
    "# plot #\n",
    "plt.figure()\n",
    "plt.contour(X, Y, Z)"
   ]
  },
  {
   "cell_type": "code",
   "execution_count": null,
   "metadata": {},
   "outputs": [],
   "source": [
    "plt.figure()\n",
    "# Change color map\n",
    "plt.contour(X, Y, Z, 20, cmap='RdGy')"
   ]
  },
  {
   "cell_type": "code",
   "execution_count": null,
   "metadata": {},
   "outputs": [],
   "source": [
    "plt.figure()\n",
    "\n",
    "# contourf() for filled countor plot\n",
    "plt.contourf(X, Y, Z, 20, cmap='RdGy')\n",
    "plt.colorbar()"
   ]
  },
  {
   "cell_type": "code",
   "execution_count": null,
   "metadata": {},
   "outputs": [],
   "source": [
    "plt.figure()\n",
    "contours = plt.contour(X, Y, Z, 3, colors='black')\n",
    "\n",
    "# Add labels of levels in the contour plot\n",
    "plt.clabel(contours, inline=True, fontsize=8)\n",
    "\n",
    "# Render image on the plot (faster but lower quality)\n",
    "plt.imshow(Z, extent=[0, 5, 0, 5], origin='lower', cmap='RdGy', alpha=0.5)\n",
    "\n",
    "plt.colorbar()"
   ]
  },
  {
   "cell_type": "code",
   "execution_count": null,
   "metadata": {},
   "outputs": [],
   "source": [
    "#### set_clim() to set limits on the values in the color bar\n",
    "\n",
    "import numpy as np\n",
    "import matplotlib.pyplot as plt\n",
    "import matplotlib as mpl\n",
    "\n",
    "# Data #\n",
    "x = np.linspace(0, 10, 1000)\t            # 1000 * 1\n",
    "I = np.sin(x) * np.cos(x[:, np.newaxis])  # 1000 * 1000\n",
    "speckles = (np.random.random(I.shape) < 0.01)\n",
    "I[speckles] = np.random.normal(0, 3, np.count_nonzero(speckles))\n",
    "\n",
    "# Figure #\n",
    "fig, axs = plt.subplots(ncols=2, figsize=(10, 5))\n",
    "# Left subplot\n",
    "axs[0].set_title('Without limit')\n",
    "im0 = axs[0].imshow(I, cmap='RdBu')\n",
    "cb0 = plt.colorbar(im0, ax=axs[0], orientation='horizontal')\n",
    "# Right subplot\n",
    "axs[1].set_title('With limit')\n",
    "im1 = axs[1].imshow(I, cmap='RdBu')\n",
    "im1.set_clim(-1, 1)\n",
    "cb1 = plt.colorbar(im1, ax=axs[1], extend='both', orientation='horizontal')"
   ]
  },
  {
   "cell_type": "markdown",
   "metadata": {},
   "source": [
    "## Plotting vector fields (quiver / streamplot plot)\n",
    "\n",
    "Source: <https://scipython.com/blog/visualizing-the-earths-magnetic-field/>\n",
    "\n",
    "More on: [quiver()](https://matplotlib.org/3.1.1/api/_as_gen/matplotlib.axes.Axes.quiver.html?highlight=quiver#matplotlib.axes.Axes.quiver), [streamplot()](https://matplotlib.org/3.1.1/api/_as_gen/matplotlib.axes.Axes.streamplot.html?highlight=streamplot#matplotlib.axes.Axes.streamplot)\n",
    "\n",
    "Another example: <https://stackoverflow.com/questions/25342072/computing-and-drawing-vector-fields>"
   ]
  },
  {
   "cell_type": "code",
   "execution_count": null,
   "metadata": {},
   "outputs": [],
   "source": [
    "import sys\n",
    "import numpy as np\n",
    "import matplotlib.pyplot as plt\n",
    "from matplotlib.patches import Circle\n",
    "\n",
    "# Mean magnitude of the Earth's magnetic field at the equator in T\n",
    "B0 = 3.12e-5\n",
    "# Radius of Earth, Mm (10^6 m: mega-metres!)\n",
    "RE = 6.370\n",
    "# Deviation of magnetic pole from axis\n",
    "alpha = np.radians(9.6)\n",
    "\n",
    "def B(r, theta):\n",
    "    \"\"\"Return the magnetic field vector at (r, theta).\"\"\"\n",
    "    fac = B0 * (RE / r)**3\n",
    "    return -2 * fac * np.cos(theta + alpha), -fac * np.sin(theta + alpha)\n",
    "\n",
    "# Grid of x, y points on a Cartesian grid\n",
    "nx, ny = 64, 64\n",
    "XMAX, YMAX = 40, 40\n",
    "x = np.linspace(-XMAX, XMAX, nx)\n",
    "y = np.linspace(-YMAX, YMAX, ny)\n",
    "X, Y = np.meshgrid(x, y)\n",
    "r, theta = np.hypot(X, Y), np.arctan2(Y, X)\n",
    "\n",
    "# Magnetic field vector, B = (Ex, Ey), as separate components\n",
    "Br, Btheta = B(r, theta)\n",
    "\n",
    "# Transform to Cartesian coordinates: NB make North point up, not to the right.\n",
    "c, s = np.cos(np.pi/2 + theta), np.sin(np.pi/2 + theta)\n",
    "Bx = -Btheta * s + Br * c\n",
    "By = Btheta * c + Br * s\n",
    "\n",
    "fig, ax = plt.subplots()\n",
    "\n",
    "# Plot the streamlines with an appropriate colormap and arrow style\n",
    "color = 2 * np.log(np.hypot(Bx, By))\n",
    "ax.streamplot(x, y, Bx, By, color=color, linewidth=1, cmap=plt.cm.inferno,\n",
    "              density=2, arrowstyle='->', arrowsize=1.5)\n",
    "\n",
    "# Add a filled circle for the Earth; make sure it's on top of the streamlines.\n",
    "ax.add_patch(Circle((0,0), RE, color='b', zorder=100))\n",
    "\n",
    "ax.set_xlabel('$x$')\n",
    "ax.set_ylabel('$y$')\n",
    "ax.set_xlim(-XMAX, XMAX)\n",
    "ax.set_ylim(-YMAX, YMAX)\n",
    "ax.set_aspect('equal')"
   ]
  },
  {
   "cell_type": "code",
   "execution_count": null,
   "metadata": {},
   "outputs": [],
   "source": [
    "# Another vector field example\n",
    "import numpy as np\n",
    "import matplotlib.pyplot as plt\n",
    "\n",
    "# Set limits and number of points in grid\n",
    "y, x = np.mgrid[10:-10:100j, 10:-10:100j]\n",
    "\n",
    "x_obstacle, y_obstacle = 0.0, 0.0\n",
    "alpha_obstacle, a_obstacle, b_obstacle = 1.0, 1e3, 2e3\n",
    "\n",
    "p = -alpha_obstacle * np.exp(-((x - x_obstacle)**2 / a_obstacle + (y - y_obstacle)**2 / b_obstacle))\n",
    "# For the absolute values of \"dx\" and \"dy\" to mean anything, we'll need to\n",
    "# specify the \"cellsize\" of our grid.  For purely visual purposes, though,\n",
    "# we could get away with just \"dy, dx = np.gradient(p)\".\n",
    "dy, dx = np.gradient(p)\n",
    "fig, ax = plt.subplots()\n",
    "ax.quiver(x, y, dx, dy, p)\n",
    "ax.set(aspect=1, title='Quiver Plot')"
   ]
  },
  {
   "cell_type": "code",
   "execution_count": null,
   "metadata": {},
   "outputs": [],
   "source": [
    "# Quiver plot with less density (draw every 3rd point)\n",
    "skip = (slice(None, None, 3), slice(None, None, 3))\n",
    "fig, ax = plt.subplots()\n",
    "ax.quiver(x[skip], y[skip], dx[skip], dy[skip], p[skip])\n",
    "ax.set(aspect=1, title='Quiver Plot (3rd points)')"
   ]
  },
  {
   "cell_type": "code",
   "execution_count": null,
   "metadata": {},
   "outputs": [],
   "source": [
    "# Streamplot with contour plot\n",
    "fig, ax = plt.subplots()\n",
    "ax.streamplot(x, y, dx, dy, color=p, density=0.5, cmap='gist_earth')\n",
    "cont = ax.contour(x, y, p, cmap='gist_earth')\n",
    "ax.clabel(cont)\n",
    "ax.set(aspect=1, title='Streamplot with contours')"
   ]
  },
  {
   "cell_type": "code",
   "execution_count": null,
   "metadata": {},
   "outputs": [],
   "source": [
    "# Streamplot with stroke + contour plot\n",
    "\n",
    "from matplotlib.patheffects import withStroke\n",
    "fig, ax = plt.subplots()\n",
    "ax.streamplot(x, y, dx, dy, linewidth=500*np.hypot(dx, dy),color=p, density=1.2, cmap='gist_earth')\n",
    "cont = ax.contour(x, y, p, cmap='gist_earth', vmin=p.min(), vmax=p.max())\n",
    "labels = ax.clabel(cont)\n",
    "plt.setp(labels, path_effects=[withStroke(linewidth=8, foreground='w')])\n",
    "ax.set(aspect=1, title='Streamplot with contours and strokes')"
   ]
  },
  {
   "cell_type": "markdown",
   "metadata": {},
   "source": [
    "### anotations\n",
    "\n",
    "anotations: https://matplotlib.org/tutorials/text/annotations.html#plotting-guide-annotation"
   ]
  },
  {
   "cell_type": "code",
   "execution_count": null,
   "metadata": {},
   "outputs": [],
   "source": [
    "data = np.random.rand(10)\n",
    "plt.plot(data)\n",
    "plt.annotate(\"Text\",(2,0.5),(1,0.2),arrowprops= dict())\n",
    "\n",
    "plt.annotate(\"peak\",\n",
    "             (np.where(data==data.max())[0][0],data.max()), # where to point\n",
    "             xycoords='data', \n",
    "             xytext=(np.where(data==data.max())[0][0]+1,data.max()-0.1), # where to put text\n",
    "             arrowprops = dict(facecolor=\"grey\",shrink=0.09)) # arrow property\n",
    "\n",
    "plt.annotate(\"fixed arrow\",\n",
    "             (0.8,0.8),xycoords='axes fraction',\n",
    "             xytext=(0.5,0.5),textcoords='axes fraction',\n",
    "             arrowprops = dict(arrowstyle=\"->\")\n",
    "            )\n",
    "\n",
    "# plt.show()"
   ]
  }
 ],
 "metadata": {
  "kernelspec": {
   "display_name": "Python 3",
   "language": "python",
   "name": "python3"
  },
  "language_info": {
   "codemirror_mode": {
    "name": "ipython",
    "version": 3
   },
   "file_extension": ".py",
   "mimetype": "text/x-python",
   "name": "python",
   "nbconvert_exporter": "python",
   "pygments_lexer": "ipython3",
   "version": "3.9.2"
  }
 },
 "nbformat": 4,
 "nbformat_minor": 4
}
